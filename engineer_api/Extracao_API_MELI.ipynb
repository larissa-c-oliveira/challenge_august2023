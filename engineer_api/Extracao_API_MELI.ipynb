{
 "cells": [
  {
   "cell_type": "markdown",
   "id": "94ba9f42",
   "metadata": {},
   "source": [
    "# Leitura de API com exportação dos resultados em CSV"
   ]
  },
  {
   "cell_type": "code",
   "execution_count": 8,
   "id": "bc08a50e",
   "metadata": {},
   "outputs": [],
   "source": [
    "# Importação das bibliotecas\n",
    "import requests\n",
    "import pandas as pd"
   ]
  },
  {
   "cell_type": "code",
   "execution_count": 9,
   "id": "6fbacca3",
   "metadata": {},
   "outputs": [],
   "source": [
    "# Função para a busca na API\n",
    "def get_search_results_api(query):\n",
    "    url = f\"https://api.mercadolibre.com/sites/MLA/search?q={query}\"\n",
    "    response = requests.get(url)\n",
    "    return response.json()"
   ]
  },
  {
   "cell_type": "code",
   "execution_count": 10,
   "id": "a3fcb3a2",
   "metadata": {},
   "outputs": [],
   "source": [
    "# Função para captura dos detalhes de cada item\n",
    "def get_item_details(item_id):\n",
    "    url = f\"https://api.mercadolibre.com/items/{item_id}\"\n",
    "    response = requests.get(url)\n",
    "    return response.json()"
   ]
  },
  {
   "cell_type": "code",
   "execution_count": 11,
   "id": "646d238e",
   "metadata": {},
   "outputs": [
    {
     "name": "stdout",
     "output_type": "stream",
     "text": [
      "Dados salvos em detalhes_api.csv\n"
     ]
    }
   ],
   "source": [
    "# Função master para realizar as buscas\n",
    "def main():\n",
    "    search_queries = [\"chromecast\", \"roku\", \"amazon-fire-tv\", \"xiaomi-mi-tv-stick\"]\n",
    "    selected_fields = [\"id\", \"title\",\"seller_id\",\"price\",\"currency_id\",\"initial_quantity\",\"available_quantity\",\"sold_quantity\",\"condition\",\"date_created\",\"last_updated\",\"start_time\",\"stop_time\"]\n",
    "    item_details_list = []\n",
    "    \n",
    "    for query in search_queries:\n",
    "        search_results = get_search_results_api(query)\n",
    "        for item in search_results.get(\"results\",[]):\n",
    "            item_id = item.get(\"id\")\n",
    "            item_details = get_item_details(item_id)\n",
    "            selected_item_details = {field: item_details.get(field) for field in selected_fields}\n",
    "            item_details_list.append(selected_item_details)\n",
    "    \n",
    "    # Criar um DataFrame do pandas com os detalhes dos itens selecionados\n",
    "    df = pd.DataFrame(item_details_list)\n",
    "    \n",
    "    # Salvar o DataFrame como um arquivo CSV\n",
    "    df.to_csv(\"detalhes_api.csv\", index=False)\n",
    "    print(\"Dados salvos em detalhes_api.csv\")\n",
    "\n",
    "if __name__ == \"__main__\":\n",
    "    main()\n"
   ]
  }
 ],
 "metadata": {
  "kernelspec": {
   "display_name": "Python 3 (ipykernel)",
   "language": "python",
   "name": "python3"
  },
  "language_info": {
   "codemirror_mode": {
    "name": "ipython",
    "version": 3
   },
   "file_extension": ".py",
   "mimetype": "text/x-python",
   "name": "python",
   "nbconvert_exporter": "python",
   "pygments_lexer": "ipython3",
   "version": "3.10.9"
  }
 },
 "nbformat": 4,
 "nbformat_minor": 5
}
